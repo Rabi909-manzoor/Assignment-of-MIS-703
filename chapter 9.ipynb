{
  "nbformat": 4,
  "nbformat_minor": 0,
  "metadata": {
    "colab": {
      "provenance": [],
      "authorship_tag": "ABX9TyMPFtzp0raOwTr3nrYVboWy",
      "include_colab_link": true
    },
    "kernelspec": {
      "name": "python3",
      "display_name": "Python 3"
    },
    "language_info": {
      "name": "python"
    }
  },
  "cells": [
    {
      "cell_type": "markdown",
      "metadata": {
        "id": "view-in-github",
        "colab_type": "text"
      },
      "source": [
        "<a href=\"https://colab.research.google.com/github/Rabi909-manzoor/Assignment-of-MIS-703/blob/main/chapter%209.ipynb\" target=\"_parent\"><img src=\"https://colab.research.google.com/assets/colab-badge.svg\" alt=\"Open In Colab\"/></a>"
      ]
    },
    {
      "cell_type": "code",
      "execution_count": 1,
      "metadata": {
        "colab": {
          "base_uri": "https://localhost:8080/"
        },
        "id": "N-zaYqFX9kxL",
        "outputId": "17e17c82-82c1-4fb1-c385-a30c578b7da2"
      },
      "outputs": [
        {
          "output_type": "stream",
          "name": "stdout",
          "text": [
            "{'money': 12, 'candy': 3, 'tissues': 75}\n"
          ]
        }
      ],
      "source": [
        "purse = dict()\n",
        "purse['money'] = 12\n",
        "purse['candy'] = 3\n",
        "purse['tissues'] = 75\n",
        "print(purse)"
      ]
    },
    {
      "cell_type": "code",
      "source": [
        "print(purse['candy'])"
      ],
      "metadata": {
        "colab": {
          "base_uri": "https://localhost:8080/"
        },
        "id": "Y4_woqM7-IPD",
        "outputId": "f5027a55-d092-4631-f406-edf90ca888f7"
      },
      "execution_count": 2,
      "outputs": [
        {
          "output_type": "stream",
          "name": "stdout",
          "text": [
            "3\n"
          ]
        }
      ]
    },
    {
      "cell_type": "code",
      "source": [
        "purse['candy'] = purse['candy'] + 2\n",
        "print(purse)\n"
      ],
      "metadata": {
        "colab": {
          "base_uri": "https://localhost:8080/"
        },
        "id": "YrK4DRdJ-OeJ",
        "outputId": "0d8cfc65-666c-46b3-e502-64c7500b26dc"
      },
      "execution_count": 3,
      "outputs": [
        {
          "output_type": "stream",
          "name": "stdout",
          "text": [
            "{'money': 12, 'candy': 5, 'tissues': 75}\n"
          ]
        }
      ]
    },
    {
      "cell_type": "code",
      "source": [
        "print(purse)\n"
      ],
      "metadata": {
        "colab": {
          "base_uri": "https://localhost:8080/"
        },
        "id": "69Gx_KCk-XdR",
        "outputId": "b4837a35-1ec1-4103-b632-1cbc1a792928"
      },
      "execution_count": 4,
      "outputs": [
        {
          "output_type": "stream",
          "name": "stdout",
          "text": [
            "{'money': 12, 'candy': 5, 'tissues': 75}\n"
          ]
        }
      ]
    },
    {
      "cell_type": "code",
      "source": [
        "ddd = dict()\n",
        "ddd['age'] = 21\n",
        "ddd['course'] = 182\n",
        "print(ddd)"
      ],
      "metadata": {
        "colab": {
          "base_uri": "https://localhost:8080/"
        },
        "id": "LjCXBL2x-po6",
        "outputId": "3bd1abb0-f4f6-432b-97d7-3c4edff32906"
      },
      "execution_count": 5,
      "outputs": [
        {
          "output_type": "stream",
          "name": "stdout",
          "text": [
            "{'age': 21, 'course': 182}\n"
          ]
        }
      ]
    },
    {
      "cell_type": "code",
      "source": [
        "ddd['age'] = 23\n",
        "print(ddd)"
      ],
      "metadata": {
        "colab": {
          "base_uri": "https://localhost:8080/"
        },
        "id": "aDh5_zty-0s1",
        "outputId": "33628e2a-ea89-450b-d4ba-ef5b70220987"
      },
      "execution_count": 6,
      "outputs": [
        {
          "output_type": "stream",
          "name": "stdout",
          "text": [
            "{'age': 23, 'course': 182}\n"
          ]
        }
      ]
    },
    {
      "cell_type": "code",
      "source": [
        "lst= list()\n",
        "lst.append(21)\n",
        "lst.append(183)\n",
        "print(lst)"
      ],
      "metadata": {
        "colab": {
          "base_uri": "https://localhost:8080/"
        },
        "id": "u0QgqtOD_AMc",
        "outputId": "b2d08767-1dd5-4564-825a-898c2e89c219"
      },
      "execution_count": 7,
      "outputs": [
        {
          "output_type": "stream",
          "name": "stdout",
          "text": [
            "[]\n"
          ]
        }
      ]
    },
    {
      "cell_type": "code",
      "source": [
        " jjj = { 'chuck' : 1 , 'fred' : 42, 'jan': 100}\n",
        "print(jjj)"
      ],
      "metadata": {
        "colab": {
          "base_uri": "https://localhost:8080/"
        },
        "id": "idYD09Za_XFM",
        "outputId": "a4404353-7dec-4ba0-9d8c-b1da6f761336"
      },
      "execution_count": 8,
      "outputs": [
        {
          "output_type": "stream",
          "name": "stdout",
          "text": [
            "{'chuck': 1, 'fred': 42, 'jan': 100}\n"
          ]
        }
      ]
    },
    {
      "cell_type": "code",
      "source": [
        "ooo = { }\n",
        "print(ooo)"
      ],
      "metadata": {
        "colab": {
          "base_uri": "https://localhost:8080/"
        },
        "id": "nAXGem4P_usp",
        "outputId": "88765918-2111-4795-e99e-16ffa4be79d9"
      },
      "execution_count": 9,
      "outputs": [
        {
          "output_type": "stream",
          "name": "stdout",
          "text": [
            "{}\n"
          ]
        }
      ]
    },
    {
      "cell_type": "code",
      "source": [
        "ccc = dict()\n",
        "ccc['csev'] = 1\n",
        "ccc['cwen'] = 1\n",
        "print(ccc)"
      ],
      "metadata": {
        "colab": {
          "base_uri": "https://localhost:8080/"
        },
        "id": "GI7FZi8i_1Lk",
        "outputId": "91a7fc1f-8ba7-4d4f-adfb-2d88e3228e4a"
      },
      "execution_count": 10,
      "outputs": [
        {
          "output_type": "stream",
          "name": "stdout",
          "text": [
            "{'csev': 1, 'cwen': 1}\n"
          ]
        }
      ]
    },
    {
      "cell_type": "code",
      "source": [
        "ccc['cwen'] = ccc['cwen'] + 1\n",
        "print(ccc)"
      ],
      "metadata": {
        "colab": {
          "base_uri": "https://localhost:8080/"
        },
        "id": "KYTyLGrF_7gy",
        "outputId": "19e041d0-6b61-4e78-ee74-c751a1599d59"
      },
      "execution_count": 11,
      "outputs": [
        {
          "output_type": "stream",
          "name": "stdout",
          "text": [
            "{'csev': 1, 'cwen': 2}\n"
          ]
        }
      ]
    },
    {
      "cell_type": "code",
      "source": [
        "counts = dict()\n",
        "names = ['csev', 'cwen', 'csev', 'zqian', 'cwen']\n",
        "for name in names :\n",
        "    if name not in counts:\n",
        "      counts[name] = 1\n",
        "    else :\n",
        "      counts[name] = counts[name] + 1\n",
        "print(counts)"
      ],
      "metadata": {
        "colab": {
          "base_uri": "https://localhost:8080/"
        },
        "id": "7knMoCnZAAV3",
        "outputId": "16c2998d-43f7-46af-da44-199b9a3d9940"
      },
      "execution_count": 12,
      "outputs": [
        {
          "output_type": "stream",
          "name": "stdout",
          "text": [
            "{'csev': 2, 'cwen': 2, 'zqian': 1}\n"
          ]
        }
      ]
    },
    {
      "cell_type": "code",
      "source": [
        "if name in counts:\n",
        "   x = counts[name]\n",
        "else :\n",
        "   x = 0\n",
        "x = counts.get(name, 0)"
      ],
      "metadata": {
        "id": "nRBJ--CaAbxy"
      },
      "execution_count": 13,
      "outputs": []
    },
    {
      "cell_type": "code",
      "source": [
        "x = counts.get(name, 0)"
      ],
      "metadata": {
        "id": "WYHBi43IAwX6"
      },
      "execution_count": 14,
      "outputs": []
    },
    {
      "cell_type": "code",
      "source": [
        "counts = dict()\n",
        "names = ['csev', 'cwen', 'csev', 'zqian', 'cwen']\n",
        "for name in names :\n",
        "    counts[name] = counts.get(name, 0) + 1\n",
        "print(counts)"
      ],
      "metadata": {
        "colab": {
          "base_uri": "https://localhost:8080/"
        },
        "id": "ufZcy_6aA1nA",
        "outputId": "102561fc-7250-40bb-dd97-98124bd9d984"
      },
      "execution_count": 15,
      "outputs": [
        {
          "output_type": "stream",
          "name": "stdout",
          "text": [
            "{'csev': 2, 'cwen': 2, 'zqian': 1}\n"
          ]
        }
      ]
    },
    {
      "cell_type": "code",
      "source": [
        "counts = dict()\n",
        "names = ['csev', 'cwen', 'csev', 'zqian', 'cwen']\n",
        "for name in names :\n",
        "    counts[name] = counts.get(name, 0) + 1\n",
        "print(counts)\n"
      ],
      "metadata": {
        "colab": {
          "base_uri": "https://localhost:8080/"
        },
        "id": "IshjA0eFA7Ad",
        "outputId": "4c0f8a40-a7a9-4d4f-ab9c-b015b7ed82a6"
      },
      "execution_count": 16,
      "outputs": [
        {
          "output_type": "stream",
          "name": "stdout",
          "text": [
            "{'csev': 2, 'cwen': 2, 'zqian': 1}\n"
          ]
        }
      ]
    },
    {
      "cell_type": "code",
      "source": [
        "counts = dict()\n",
        "print('Enter a line of text:')\n",
        "line = input('')\n",
        "words = line.split()\n",
        "print('Words:', words)\n",
        "print('Counting...')\n"
      ],
      "metadata": {
        "colab": {
          "base_uri": "https://localhost:8080/"
        },
        "id": "dqCv9LmhBHWC",
        "outputId": "e2974945-3bdd-4de5-f56c-ac7cc3d61628"
      },
      "execution_count": 17,
      "outputs": [
        {
          "output_type": "stream",
          "name": "stdout",
          "text": [
            "Enter a line of text:\n",
            "hyyy\n",
            "Words: ['hyyy']\n",
            "Counting...\n"
          ]
        }
      ]
    },
    {
      "cell_type": "code",
      "source": [
        "for word in words:\n",
        "   counts[word] = counts.get(word,0) + 1\n",
        "print('Counts', counts)"
      ],
      "metadata": {
        "colab": {
          "base_uri": "https://localhost:8080/"
        },
        "id": "5kfeum9bBRJ3",
        "outputId": "c0d742dd-f074-4b77-b714-011ea85b648f"
      },
      "execution_count": 18,
      "outputs": [
        {
          "output_type": "stream",
          "name": "stdout",
          "text": [
            "Counts {'hyyy': 1}\n"
          ]
        }
      ]
    },
    {
      "cell_type": "code",
      "source": [
        "counts = dict()\n",
        "line = input('Enter a line of text:')\n",
        "words = line.split()\n",
        "print('Words:', words)\n",
        "print('Counting...’)\n",
        "for word in words:\n",
        "    counts[word] = counts.get(word,0) + 1\n",
        "print('Counts', counts)"
      ],
      "metadata": {
        "colab": {
          "base_uri": "https://localhost:8080/",
          "height": 141
        },
        "id": "B6f8UTX-BZLH",
        "outputId": "3d3c0cdb-bb27-4d7d-8c16-c485c3422d82"
      },
      "execution_count": 19,
      "outputs": [
        {
          "output_type": "error",
          "ename": "SyntaxError",
          "evalue": "ignored",
          "traceback": [
            "\u001b[0;36m  File \u001b[0;32m\"<ipython-input-19-9ac9203c0f28>\"\u001b[0;36m, line \u001b[0;32m5\u001b[0m\n\u001b[0;31m    print('Counting...’)\u001b[0m\n\u001b[0m          ^\u001b[0m\n\u001b[0;31mSyntaxError\u001b[0m\u001b[0;31m:\u001b[0m unterminated string literal (detected at line 5)\n"
          ]
        }
      ]
    },
    {
      "cell_type": "code",
      "source": [
        "counts = { 'chuck' : 1 , 'fred' : 42, 'jan': 100}\n",
        "for key in counts:\n",
        "    print(key, counts[key])"
      ],
      "metadata": {
        "colab": {
          "base_uri": "https://localhost:8080/"
        },
        "id": "s6pl0u3YBjjh",
        "outputId": "e8353584-afe2-4b6b-a244-f8398b66b13e"
      },
      "execution_count": 20,
      "outputs": [
        {
          "output_type": "stream",
          "name": "stdout",
          "text": [
            "chuck 1\n",
            "fred 42\n",
            "jan 100\n"
          ]
        }
      ]
    },
    {
      "cell_type": "code",
      "source": [
        " jjj = { 'chuck' : 1 , 'fred' : 42, 'jan': 100}\n",
        "print(list(jjj))"
      ],
      "metadata": {
        "colab": {
          "base_uri": "https://localhost:8080/"
        },
        "id": "P_h1RNZSBtCZ",
        "outputId": "e002c032-fc96-448c-95c2-67724aa5aff3"
      },
      "execution_count": 21,
      "outputs": [
        {
          "output_type": "stream",
          "name": "stdout",
          "text": [
            "['chuck', 'fred', 'jan']\n"
          ]
        }
      ]
    },
    {
      "cell_type": "code",
      "source": [
        " print(jjj.keys())"
      ],
      "metadata": {
        "colab": {
          "base_uri": "https://localhost:8080/"
        },
        "id": "lNVBeLHbB2Wo",
        "outputId": "da3fccba-2fc1-486e-efe2-bc95168fdd2c"
      },
      "execution_count": 22,
      "outputs": [
        {
          "output_type": "stream",
          "name": "stdout",
          "text": [
            "dict_keys(['chuck', 'fred', 'jan'])\n"
          ]
        }
      ]
    },
    {
      "cell_type": "code",
      "source": [
        "print(jjj.values())"
      ],
      "metadata": {
        "colab": {
          "base_uri": "https://localhost:8080/"
        },
        "id": "mfMOLty5B_t1",
        "outputId": "b4d48354-200c-4ad5-e127-ed186e429f7d"
      },
      "execution_count": 23,
      "outputs": [
        {
          "output_type": "stream",
          "name": "stdout",
          "text": [
            "dict_values([1, 42, 100])\n"
          ]
        }
      ]
    },
    {
      "cell_type": "code",
      "source": [
        " print(jjj.items())"
      ],
      "metadata": {
        "colab": {
          "base_uri": "https://localhost:8080/"
        },
        "id": "TgZ0oaeiCDmd",
        "outputId": "3266be46-b765-4194-b3c1-9f7c2a2b6471"
      },
      "execution_count": 24,
      "outputs": [
        {
          "output_type": "stream",
          "name": "stdout",
          "text": [
            "dict_items([('chuck', 1), ('fred', 42), ('jan', 100)])\n"
          ]
        }
      ]
    },
    {
      "cell_type": "code",
      "source": [
        "jjj = { 'chuck' : 1 , 'fred' : 42, 'jan': 100}\n",
        "for aaa,bbb in jjj.items() :\n",
        "  print(aaa, bbb)"
      ],
      "metadata": {
        "colab": {
          "base_uri": "https://localhost:8080/"
        },
        "id": "KaF1sfQtCIlr",
        "outputId": "d4a4e469-cf31-4926-94ec-0340a3a91047"
      },
      "execution_count": 25,
      "outputs": [
        {
          "output_type": "stream",
          "name": "stdout",
          "text": [
            "chuck 1\n",
            "fred 42\n",
            "jan 100\n"
          ]
        }
      ]
    },
    {
      "cell_type": "code",
      "source": [],
      "metadata": {
        "id": "bSlRdt0DCRvR"
      },
      "execution_count": null,
      "outputs": []
    }
  ]
}