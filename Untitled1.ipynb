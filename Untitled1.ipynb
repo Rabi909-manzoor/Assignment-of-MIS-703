{
  "nbformat": 4,
  "nbformat_minor": 0,
  "metadata": {
    "colab": {
      "provenance": [],
      "authorship_tag": "ABX9TyO7OzCHePE+029YBbXS7FjU",
      "include_colab_link": true
    },
    "kernelspec": {
      "name": "python3",
      "display_name": "Python 3"
    },
    "language_info": {
      "name": "python"
    }
  },
  "cells": [
    {
      "cell_type": "markdown",
      "metadata": {
        "id": "view-in-github",
        "colab_type": "text"
      },
      "source": [
        "<a href=\"https://colab.research.google.com/github/Rabi909-manzoor/Assignment-of-MIS-703/blob/main/Untitled1.ipynb\" target=\"_parent\"><img src=\"https://colab.research.google.com/assets/colab-badge.svg\" alt=\"Open In Colab\"/></a>"
      ]
    },
    {
      "cell_type": "code",
      "execution_count": 1,
      "metadata": {
        "colab": {
          "base_uri": "https://localhost:8080/"
        },
        "id": "UmuV9kPjOohe",
        "outputId": "ff12ee46-9885-4158-d14e-fc01793f0689"
      },
      "outputs": [
        {
          "output_type": "stream",
          "name": "stdout",
          "text": [
            "Equals 5\n",
            "Greater than 4\n",
            "Greater than or Equals 5\n",
            "Less than 6\n",
            "Less than or equals 5\n",
            "not equal 6\n"
          ]
        }
      ],
      "source": [
        "x = 5\n",
        "if x == 5 :\n",
        "   print('Equals 5')\n",
        "if x > 4 :\n",
        "   print('Greater than 4')\n",
        "if x >= 5 :\n",
        "   print('Greater than or Equals 5')\n",
        "if x < 6 :\n",
        "   print('Less than 6')\n",
        "if x <= 5 :\n",
        "   print('Less than or equals 5')\n",
        "if x!=6:\n",
        "  print('not equal 6')\n"
      ]
    },
    {
      "cell_type": "code",
      "source": [
        "x = 42\n",
        "if x > 1 :\n",
        "   print('More than one')\n",
        "   if x < 100 :\n",
        "     print('Less than 100')\n",
        "print('All done')"
      ],
      "metadata": {
        "colab": {
          "base_uri": "https://localhost:8080/"
        },
        "id": "7jdoVjLpQMOb",
        "outputId": "0041af89-728a-40dd-f1da-308eea90b9be"
      },
      "execution_count": 2,
      "outputs": [
        {
          "output_type": "stream",
          "name": "stdout",
          "text": [
            "More than one\n",
            "Less than 100\n",
            "All done\n"
          ]
        }
      ]
    },
    {
      "cell_type": "code",
      "source": [
        "x = 4\n",
        "if x > 2 :\n",
        "  print('Bigger')\n",
        "else :\n",
        "  print('Smaller')\n",
        "print('All done')\n"
      ],
      "metadata": {
        "colab": {
          "base_uri": "https://localhost:8080/"
        },
        "id": "1_vhWVLQR9hB",
        "outputId": "14dc30b2-e792-4e31-f36d-9cfc68642812"
      },
      "execution_count": 3,
      "outputs": [
        {
          "output_type": "stream",
          "name": "stdout",
          "text": [
            "Bigger\n",
            "All done\n"
          ]
        }
      ]
    },
    {
      "cell_type": "code",
      "source": [
        "x = 0\n",
        "if x < 2 :\n",
        "   print('small')\n",
        "elif x < 10 :\n",
        "   print('Medium')\n",
        "else :\n",
        "   print('LARGE')\n",
        "print('All done')"
      ],
      "metadata": {
        "colab": {
          "base_uri": "https://localhost:8080/"
        },
        "id": "cesovERFSNCk",
        "outputId": "11882ff7-b85f-46cf-c5ea-0fac35062bc0"
      },
      "execution_count": 4,
      "outputs": [
        {
          "output_type": "stream",
          "name": "stdout",
          "text": [
            "small\n",
            "All done\n"
          ]
        }
      ]
    },
    {
      "cell_type": "code",
      "source": [
        "a = 'Hello Bob'\n",
        "try:\n",
        "  istr = int(a)\n",
        "except:\n",
        "  istr = -1\n",
        "  print('First', istr)\n",
        "astr = '123'\n",
        "try:\n",
        "  istr = int(astr)\n",
        "except:\n",
        "  istr = -1\n",
        "print('Second', istr)\n"
      ],
      "metadata": {
        "colab": {
          "base_uri": "https://localhost:8080/"
        },
        "id": "9tqVTl7pShe7",
        "outputId": "95485487-413b-440a-b700-a959cf0118cb"
      },
      "execution_count": 6,
      "outputs": [
        {
          "output_type": "stream",
          "name": "stdout",
          "text": [
            "First -1\n",
            "Second 123\n"
          ]
        }
      ]
    },
    {
      "cell_type": "code",
      "source": [
        "a='Bob'\n",
        "try:\n",
        "  b=int(a)\n",
        "except:\n",
        "  b=str('bob')\n",
        "print('nice')"
      ],
      "metadata": {
        "colab": {
          "base_uri": "https://localhost:8080/"
        },
        "id": "PmXGv5yJTUGI",
        "outputId": "4519a673-c291-401a-cc31-1d96d8dc75a9"
      },
      "execution_count": 9,
      "outputs": [
        {
          "output_type": "stream",
          "name": "stdout",
          "text": [
            "nice\n"
          ]
        }
      ]
    }
  ]
}